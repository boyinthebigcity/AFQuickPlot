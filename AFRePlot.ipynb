{
 "cells": [
  {
   "cell_type": "markdown",
   "metadata": {},
   "source": [
    "## Re-plotting pLDDT scores"
   ]
  },
  {
   "cell_type": "code",
   "execution_count": null,
   "metadata": {},
   "outputs": [],
   "source": [
    "import numpy as np\n",
    "import matplotlib\n",
    "import matplotlib.pyplot as plt\n",
    "import pandas as pd\n",
    "import seaborn as sns"
   ]
  },
  {
   "cell_type": "code",
   "execution_count": null,
   "metadata": {},
   "outputs": [],
   "source": [
    "# Importing plddt.csv\n",
    "csv_path = input('Input the path to your plddt csv file: ')\n",
    "filename = csv_path.split('/')[-1]\n",
    "outpath = csv_path.replace(filename,'')\n",
    "\n",
    "df = pd.read_csv(csv_path)\n",
    "df = df.set_index('Unnamed: 0')\n",
    "df_xy = df.transpose(copy=True)\n",
    "df_xy = df_xy.rename_axis(columns={'Unnamed: 0':\"AA\"})\n",
    "df_xy.head()"
   ]
  },
  {
   "cell_type": "code",
   "execution_count": null,
   "metadata": {},
   "outputs": [],
   "source": [
    "# Plotting top-ranked prediction pLDDT scores\n",
    "max_rank = input('How many of the top-ranked predictions would you like to plot? ')\n",
    "if max_rank == '':\n",
    "    rank_range = np.arange(0,25,1)\n",
    "    NUM_COLORS = 25\n",
    "else:\n",
    "    rank_range = np.arange(0,int(max_rank),1)\n",
    "    NUM_COLORS = int(max_rank)\n",
    "#cm = plt.get_cmap('gist_rainbow') #color option 1\n",
    "#cm = sns.color_palette('husl', n_colors = NUM_COLORS) #color option 2\n",
    "cm = plt.cm.jet(np.linspace(0,1,NUM_COLORS)) #color option 3\n",
    "\n",
    "fig, ax = plt.subplots(figsize=(10,6))\n",
    "# Set fontface\n",
    "matplotlib.rcParams['font.sans-serif'] = \"Arial\"\n",
    "matplotlib.rcParams['font.family'] = \"sans-serif\"\n",
    "matplotlib.rcParams[\"mathtext.default\"] = \"regular\"\n",
    "# Set colours\n",
    "#matplotlib.rcParams['axes.prop_cycle'] = \n",
    "#ax.set_prop_cycle(color=[cm(1.*i/NUM_COLORS) for i in range(NUM_COLORS)])\n",
    "for i in rank_range:\n",
    "    ax.plot(df_xy[i], label='Rank '+str(i), color=cm[i], linewidth=.75)\n",
    "\n",
    "ax.set_ylabel('Predicted LDDT', fontsize=12)\n",
    "ax.set_xlabel('Positions', fontsize=12)\n",
    "ax.legend(bbox_to_anchor=(1.01, 1.05))\n",
    "#ax.xaxis.set_major_locator(plt.MaxNLocator(df_xy.shape[0]/))\n",
    "ax.set_ylim(top=100)\n",
    "xrange = input('What range of residues do you want to plot (e.g. \"0-100\" – leave blank for all): ')\n",
    "if xrange == '':\n",
    "    xmin, xmax = 0, df_xy.shape[0]\n",
    "else:\n",
    "    xrng = xrange.split('-')\n",
    "    xmin, xmax = int(xrng[0]), int(xrng[1])\n",
    "\n",
    "horizLine = input('Plot a vertical divider? (y/n)')\n",
    "if horizLine == 'y':\n",
    "    ax.axvline(int(input('Which position? ')), color='gray', linestyle='--')\n",
    "\n",
    "ax.set_xlim(xmin,xmax)\n",
    "ax.set_ylim(0,100)\n",
    "ax.set_xticks(np.round(np.linspace(xmin, xmax, 11), 2))\n",
    "#1103.5\n",
    "outpath = csv_path.replace(filename,'')\n",
    "#plt.savefig(f\"{outpath}plddt-replot.pdf\")   #<-- Remove #'s on this line to automatically save the figure as .pdf"
   ]
  },
  {
   "cell_type": "code",
   "execution_count": null,
   "metadata": {},
   "outputs": [],
   "source": [
    "avgs_irange=[]\n",
    "df_irange = df_xy.iloc[904:974] # Residues you would like to find the max average pLDDT for\n",
    "for row in df_irange:\n",
    "    avgs_irange.append(np.mean(df_irange[row]))\n",
    "print('Max. avg. pLDDT =',max(avgs_irange), ': Ranked',avgs_irange.index(max(avgs_irange)))"
   ]
  },
  {
   "cell_type": "code",
   "execution_count": null,
   "metadata": {},
   "outputs": [],
   "source": [
    "avgs=[]\n",
    "for ranked in df_xy:\n",
    "    avgs.append(np.mean(df_xy[ranked]))\n",
    "max_pLDDT = max(avgs)\n",
    "print('Max. avg. pLDDT =',max_pLDDT, ': Ranked',avgs.index(max_pLDDT))"
   ]
  },
  {
   "cell_type": "code",
   "execution_count": null,
   "metadata": {},
   "outputs": [],
   "source": [
    "avgs[0]"
   ]
  },
  {
   "cell_type": "code",
   "execution_count": null,
   "metadata": {},
   "outputs": [],
   "source": []
  }
 ],
 "metadata": {
  "kernelspec": {
   "display_name": "l2d",
   "language": "python",
   "name": "python3"
  },
  "language_info": {
   "codemirror_mode": {
    "name": "ipython",
    "version": 3
   },
   "file_extension": ".py",
   "mimetype": "text/x-python",
   "name": "python",
   "nbconvert_exporter": "python",
   "pygments_lexer": "ipython3",
   "version": "3.11.5"
  }
 },
 "nbformat": 4,
 "nbformat_minor": 2
}
