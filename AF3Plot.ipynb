{
 "cells": [
  {
   "cell_type": "markdown",
   "metadata": {},
   "source": [
    "## AF3Plot\n",
    "Plotting MSA, pLDDT, and PAE output from the new AlphaFold3 server\n",
    "\n",
    "_Note: This notebook is under active testing. I have no idea how DeepMind have structured the data within the .json files, so bare with._"
   ]
  },
  {
   "cell_type": "markdown",
   "metadata": {},
   "source": [
    "### 1. Importing dependencies"
   ]
  },
  {
   "cell_type": "code",
   "execution_count": null,
   "metadata": {},
   "outputs": [],
   "source": [
    "import json\n",
    "import os\n",
    "import numpy as np\n",
    "import matplotlib\n",
    "import matplotlib.pyplot as plt\n",
    "import pandas as pd\n",
    "import seaborn as sns"
   ]
  },
  {
   "cell_type": "markdown",
   "metadata": {},
   "source": [
    "### 2. Sorting through output folder files\n",
    "The folder should contain something like this:\n",
    "\n",
    "|&#128193; | | | |\n",
    "|---------------------|--------------------|----------------------|---------------------|\n",
    "|fold_[...]_full_data_0.json         |fold_[...]_full_data_1.json        |fold_[...]_full_data_2.json          |fold_[...]_full_data_3.json  |\n",
    "|fold_[...]_full_data_4.json  |fold_[...]_job_request.json  |fold_[...]_model_0.cif          |fold_[...]_model_1.cif|\n",
    "|fold_[...]_model_2.cif                 |fold_[...]_model_3.cif       |fold_[...]_model_4.cif    |fold_[...]_summary_confidences_0.json  |\n",
    "|fold_[...]_summary_confidences_1.json   |fold_[...]_summary_confidences_2.json  |fold_[...]_summary_confidences_3.json |fold_[...]_summary_confidences_4.json|\n",
    "|terms_of_use.md         |"
   ]
  },
  {
   "cell_type": "code",
   "execution_count": null,
   "metadata": {},
   "outputs": [],
   "source": [
    "class ARG:\n",
    "    def __init__(self, repo):\n",
    "        self.input_dir = repo\n",
    "        self.output_dir = repo\n",
    "        self.name = name \n",
    "\n",
    "repo = [input('Please copy the path to your output folder (e.g. /User/Documents/fold_2024__05_12_protein1 ): ')] # This is a list of all output repositories\n",
    "name = input('Please enter your AlphaFold3 job name (e.g. 2024-05-22_protein1): ')\n",
    "name = name.replace('-','_')"
   ]
  },
  {
   "cell_type": "markdown",
   "metadata": {},
   "source": [
    "### 3. Loading JSON files into Jupyter"
   ]
  },
  {
   "cell_type": "code",
   "execution_count": null,
   "metadata": {},
   "outputs": [],
   "source": [
    "# Option 1: json.load\n",
    "for r in repo:\n",
    "    args = ARG(r)\n",
    "    summary_confidences=[]\n",
    "    full_data=[]\n",
    "    for i in range(0,5,1):\n",
    "        with open(os.path.join(r, \"fold_\"+name+\"_summary_confidences_\"+str(i)+\".json\")) as scFile:\n",
    "            sc = json.load(scFile)\n",
    "            summary_confidences.append(sc)\n",
    "        with open(os.path.join(r, \"fold_\"+name+\"_full_data_\"+str(i)+\".json\")) as fdFile:\n",
    "            fd = json.load(fdFile)\n",
    "            full_data.append(fd)"
   ]
  },
  {
   "cell_type": "code",
   "execution_count": null,
   "metadata": {},
   "outputs": [],
   "source": [
    "summary_confidences[0].keys()"
   ]
  },
  {
   "cell_type": "code",
   "execution_count": null,
   "metadata": {},
   "outputs": [],
   "source": [
    "full_data[0].keys()"
   ]
  },
  {
   "cell_type": "markdown",
   "metadata": {},
   "source": [
    "### Structure of JSON files:\n",
    "\n",
    "#### full_data\n",
    "\n",
    "dict_keys(['atom_chain_ids', 'atom_plddts', 'contact_probs', 'pae', 'token_chain_ids', 'token_res_ids'])\n",
    "\n",
    "My assessment of these values (will look into AF3 documentation to confirm)\n",
    "- atom_chain_ids = Which chain (protein, ion, ligand etc) the atoms belong to ; format = 'A', 'B', 'C' ...\n",
    "- atom_plddts = predicted local distance difference test score, _per atom_ (note: AF2 recorded these _per residue_) ; format = 0.00-100.00\n",
    "- contact_probs = Probability of the atom making contact with another chain? ; format = 0.00-1.00\n",
    "- pae = Predicted aligned error _per residue or ion?_ ; format = 0.00 upt0 >30.00 (Ångströms)\n",
    "- token_chain_ids = Similar to atom_chain_ids, but _per residue or ion?_ ; format = 'A', 'B', 'C' ...\n",
    "- token_res_ids = Position (residue) numbers ; format 1-(total number of residues)"
   ]
  },
  {
   "cell_type": "code",
   "execution_count": null,
   "metadata": {},
   "outputs": [],
   "source": [
    "len(full_data[0]['token_res_ids'])"
   ]
  },
  {
   "cell_type": "markdown",
   "metadata": {},
   "source": [
    "### Plotting the _per atom_ pLDDT"
   ]
  },
  {
   "cell_type": "code",
   "execution_count": null,
   "metadata": {},
   "outputs": [],
   "source": [
    "plot_param = 'atom_plddts'\n",
    "# Plotting top-ranked prediction pLDDT scores\n",
    "max_rank = input('How many of the top-ranked predictions would you like to plot? ')\n",
    "if max_rank == '':\n",
    "    rank_range = np.arange(0,5,1)\n",
    "    NUM_COLORS = 5\n",
    "else:\n",
    "    rank_range = np.arange(0,int(max_rank),1)\n",
    "    NUM_COLORS = int(max_rank)\n",
    "#cm = plt.get_cmap('gist_rainbow') #color option 1\n",
    "#cm = sns.color_palette('husl', n_colors = NUM_COLORS) #color option 2\n",
    "cm = plt.cm.jet(np.linspace(0,1,NUM_COLORS)) #color option 3\n",
    "\n",
    "fig, ax = plt.subplots(figsize=(10,6))\n",
    "# Set fontface\n",
    "matplotlib.rcParams['font.sans-serif'] = \"Arial\"\n",
    "matplotlib.rcParams['font.family'] = \"sans-serif\"\n",
    "matplotlib.rcParams[\"mathtext.default\"] = \"regular\"\n",
    "# Set colours\n",
    "#matplotlib.rcParams['axes.prop_cycle'] = \n",
    "#ax.set_prop_cycle(color=[cm(1.*i/NUM_COLORS) for i in range(NUM_COLORS)])\n",
    "for i in rank_range:\n",
    "    ax.plot(full_data[i][plot_param], label='Rank '+str(i), color=cm[i], linewidth=.75)\n",
    "\n",
    "ax.set_ylabel('Predicted LDDT', fontsize=12)\n",
    "ax.set_xlabel('Atoms', fontsize=12)\n",
    "ax.legend(bbox_to_anchor=(1.01, 1.05))\n",
    "#ax.xaxis.set_major_locator(plt.MaxNLocator(df_xy.shape[0]/))\n",
    "ax.set_ylim(top=100)\n",
    "#xrange = input('What range of residues do you want to plot (e.g. \"0-100\" – leave blank for all): ')\n",
    "#if xrange == '':\n",
    "xmin, xmax = 0, len(full_data[i][plot_param])\n",
    "#else:\n",
    "    #xrng = xrange.split('-')\n",
    "    #xmin, xmax = int(xrng[0]), int(xrng[1])\n",
    "\n",
    "#horizLine = input('Plot a vertical divider? (y/n)')\n",
    "#if horizLine == 'y':\n",
    "    #ax.axvline(int(input('Which position? ')), color='gray', linestyle='--')\n",
    "\n",
    "ax.set_xlim(xmin,xmax)\n",
    "ax.set_ylim(0,100)\n",
    "ax.set_xticks(np.round(np.linspace(xmin, xmax, 11), 2));\n",
    "#1103.5\n",
    "##outpath = csv_path.replace(filename,'')\n",
    "#plt.savefig(f\"{outpath}plddt-replot.pdf\")   #<-- Remove #'s on this line to automatically save the figure as .pdf"
   ]
  },
  {
   "cell_type": "markdown",
   "metadata": {},
   "source": [
    "### Plotting the Predicted Aligned Error (PAE)"
   ]
  },
  {
   "cell_type": "code",
   "execution_count": null,
   "metadata": {},
   "outputs": [],
   "source": [
    "################# PLOT THE PREDICTED ALIGNED ERROR################\n",
    "num_models = len(full_data)\n",
    "plt.figure(figsize=(3 * num_models, 2), dpi=100)\n",
    "\n",
    "\n",
    "for i in range(0,num_models,1):\n",
    "    plt.subplot(1, num_models, i + 1)\n",
    "    plt.title(f\"Model {i}\")\n",
    "    #if max(full_data[i]['pae'])>=30:\n",
    "    #    vmax = max(full_data[i]['pae']) \n",
    "    #else:\n",
    "    #    vmax=30\n",
    "    plt.imshow(full_data[i]['pae'], label=f\"Model_{i}\", cmap=\"bwr\", vmin=0, vmax=30)\n",
    "    plt.xlabel(\"Scored Residue\", fontsize=10)\n",
    "    #plt.set_tickparams(fontsize=8)\n",
    "    plt.ylabel(\"Aligned Residue\", fontsize=10)\n",
    "    cbar = plt.colorbar(orientation=\"horizontal\",fraction=0.046, pad=.3)\n",
    "    cbar.ax.set_xlabel('Expected Position Error / Å', fontsize=8)\n",
    "    cbar.ax.set_xticklabels([0,10,20,30],fontsize=8);\n",
    "    #plt.tight_layout()"
   ]
  },
  {
   "cell_type": "markdown",
   "metadata": {},
   "source": [
    "------------------------\n",
    "\n",
    "#### Ignore below:"
   ]
  },
  {
   "cell_type": "code",
   "execution_count": null,
   "metadata": {},
   "outputs": [],
   "source": [
    "# Option 2: pandas.read_json NOT WORKING FOR THIS FILE FORMAT\n",
    "for r in repo:\n",
    "    args = ARG(r)\n",
    "    summary_confidences=[]\n",
    "    full_data=[]\n",
    "    for i in range(0,5,1):\n",
    "        sc = pd.read_json(os.path.join(r, \"fold_\"+name+\"_summary_confidences_\"+str(i)+\".json\"))\n",
    "        summary_confidences.append(sc)\n",
    "        fd = pd.read_json(os.path.join(r, \"fold_\"+name+\"_full_data_\"+str(i)+\".json\"))\n",
    "        full_data.append(fd)"
   ]
  },
  {
   "cell_type": "code",
   "execution_count": null,
   "metadata": {},
   "outputs": [],
   "source": []
  }
 ],
 "metadata": {
  "kernelspec": {
   "display_name": "l2d",
   "language": "python",
   "name": "python3"
  },
  "language_info": {
   "codemirror_mode": {
    "name": "ipython",
    "version": 3
   },
   "file_extension": ".py",
   "mimetype": "text/x-python",
   "name": "python",
   "nbconvert_exporter": "python",
   "pygments_lexer": "ipython3",
   "version": "3.11.5"
  }
 },
 "nbformat": 4,
 "nbformat_minor": 2
}
