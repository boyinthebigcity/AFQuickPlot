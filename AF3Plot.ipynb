{
 "cells": [
  {
   "cell_type": "markdown",
   "metadata": {},
   "source": [
    "## AF3Plot\n",
    "Plotting MSA, pLDDT, and PAE output from the new [AlphaFold3 server](alphafoldserver.com/) "
   ]
  },
  {
   "cell_type": "markdown",
   "metadata": {},
   "source": [
    "### 1. Importing dependencies"
   ]
  },
  {
   "cell_type": "code",
   "execution_count": null,
   "metadata": {},
   "outputs": [],
   "source": [
    "import json\n",
    "import os\n",
    "import numpy as np\n",
    "import matplotlib\n",
    "import matplotlib.pyplot as plt\n",
    "import pandas as pd\n",
    "import seaborn as sns"
   ]
  },
  {
   "cell_type": "markdown",
   "metadata": {},
   "source": [
    "### 2. Sorting through output folder files\n",
    "The folder should contain something like this:\n",
    "\n",
    "|&#128193; | | | |\n",
    "|---------------------|--------------------|----------------------|---------------------|\n",
    "|fold_[...]_full_data_0.json         |fold_[...]_full_data_1.json        |fold_[...]_full_data_2.json          |fold_[...]_full_data_3.json  |\n",
    "|fold_[...]_full_data_4.json  |fold_[...]_job_request.json  |fold_[...]_model_0.cif          |fold_[...]_model_1.cif|\n",
    "|fold_[...]_model_2.cif                 |fold_[...]_model_3.cif       |fold_[...]_model_4.cif    |fold_[...]_summary_confidences_0.json  |\n",
    "|fold_[...]_summary_confidences_1.json   |fold_[...]_summary_confidences_2.json  |fold_[...]_summary_confidences_3.json |fold_[...]_summary_confidences_4.json|\n",
    "|terms_of_use.md         |"
   ]
  },
  {
   "cell_type": "code",
   "execution_count": null,
   "metadata": {},
   "outputs": [],
   "source": [
    "class ARG:\n",
    "    def __init__(self, repo):\n",
    "        self.input_dir = repo\n",
    "        self.output_dir = repo\n",
    "        self.name = name \n",
    "\n",
    "repo = [input('Please copy the path to your output folder (e.g. /User/Documents/fold_2024__05_12_protein1 ): ')] # This is a list of all output repositories\n",
    "name = input('Please enter your AlphaFold3 job name (e.g. 2024-05-22_protein1): ')\n",
    "name = name.replace('-','_')\n",
    "print(name, f'({repo})')"
   ]
  },
  {
   "cell_type": "markdown",
   "metadata": {},
   "source": [
    "### 3. Loading JSON files into Jupyter"
   ]
  },
  {
   "cell_type": "code",
   "execution_count": null,
   "metadata": {},
   "outputs": [],
   "source": [
    "# Option 1: json.load\n",
    "for r in repo:\n",
    "    args = ARG(r)\n",
    "    summary_confidences=[]\n",
    "    full_data=[]\n",
    "    for i in range(0,5,1):\n",
    "        with open(os.path.join(r, \"fold_\"+name+\"_summary_confidences_\"+str(i)+\".json\")) as scFile:\n",
    "            sc = json.load(scFile)\n",
    "            summary_confidences.append(sc)\n",
    "        with open(os.path.join(r, \"fold_\"+name+\"_full_data_\"+str(i)+\".json\")) as fdFile:\n",
    "            fd = json.load(fdFile)\n",
    "            full_data.append(fd)"
   ]
  },
  {
   "cell_type": "code",
   "execution_count": null,
   "metadata": {},
   "outputs": [],
   "source": [
    "summary_confidences[0].keys()"
   ]
  },
  {
   "cell_type": "code",
   "execution_count": null,
   "metadata": {},
   "outputs": [],
   "source": [
    "full_data[0].keys()"
   ]
  },
  {
   "cell_type": "markdown",
   "metadata": {},
   "source": [
    "### Structure of JSON files:\n",
    "\n",
    "#### full_data\n",
    "\n",
    "dict_keys(['atom_chain_ids', 'atom_plddts', 'contact_probs', 'pae', 'token_chain_ids', 'token_res_ids'])\n",
    "\n",
    "From [AlphaFold Server FAQ page](https://alphafoldserver.com/welcome#how-do-i-interpret-all-the-outputs-in-the-downloaded-json-files):\n",
    "- **atom_chain_ids**: A [num_atoms] array indicating the chain ids corresponding to each atom in the prediction.\n",
    "- **atom_plddts**: A [num_atoms] array, element i indicates the predicted local distance difference test (pLDDT) for atom i in the prediction.\n",
    "- **contact_probs**: A [num_tokens, num_tokens] array. Element (i, j) indicates the predicted probability that token i and token j are in contact (8Å between the representative atom for each token), see paper for details.\n",
    "- **pae**: A [num_tokens, num_tokens] array. Element (i, j) indicates the predicted error in the position of token j, when the prediction is aligned to the ground truth using the frame of token i.\n",
    "- **token_chain_ids**: A [num_tokens] array indicating the chain ids corresponding to each token in the prediction.\n",
    "- **token_res_ids**: _Position (residue) numbers ; format 1-(total number of residues)_ (nothing on their FAQ page)\n",
    "\n",
    "#### summary_confidences\n",
    "\n",
    "From [AlphaFold Server FAQ page](https://alphafoldserver.com/welcome#how-do-i-interpret-all-the-outputs-in-the-downloaded-json-files):\n",
    "- **ptm**: A scalar in the range 0-1 indicating the predicted TM-score for the full structure.\n",
    "- **iptm**: A scalar in the range 0-1 indicating predicted interface TM-score (confidence in the predicted interfaces) for - all interfaces in the structure.\n",
    "- **fraction_disordered**: A scalar in the range 0-1 that indicates what fraction of the prediction structure is disordered, as measured by accessible surface area, see our [paper](https://www.nature.com/articles/s41586-024-07487-w) for details.\n",
    "- **has_clash**: A boolean indicating if the structure has a significant number of clashing atoms (more than 50% of a chain, or a chain with more than 100 clashing atoms).\n",
    "- **ranking_score**: A scalar in the range [-100, 1.5] that can be used for ranking predictions, it incorporates ptm, iptm, fraction_disordered and has_clash into a single number with the following equation: 0.8 x ipTM + 0.2 x pTM + 0.5 x disorder − 100 x has_clash.\n",
    "- **chain_pair_pae_min**: A [num_chains, num_chains] array. Element (i, j) of the array contains the lowest PAE value across rows restricted to chain i and columns restricted to chain j. This has been found to correlate with whether two chains interact or not, and in some cases can be used to distinguish binders from non-binders.\n",
    "- **chain_pair_iptm**: A [num_chains, num_chains] array. Off-diagonal element (i, j) of the array contains the ipTM restricted to tokens from chains i and j. Diagonal element (i, i) contains the pTM restricted to chain i. Can be used for ranking a specific interface between two chains, when you know that they interact, e.g. for antibody-antigen interactions\n",
    "- **chain_ptm**: A [num_chains] array. Element i contains the pTM restricted to chain i. Can be used for ranking individual chains when the structure of that chain is most of interest, rather than the cross-chain interactions it is involved with.\n",
    "- **chain_iptm**: A [num_chains] array that gives the average confidence (interface pTM) in the interface between each chain and all other chains. Can be used for ranking a specific chain, when you care about where the chain binds to the rest of the complex and you do not know which other chains you expect it to interact with. This is often the case with ligands."
   ]
  },
  {
   "cell_type": "code",
   "execution_count": null,
   "metadata": {},
   "outputs": [],
   "source": [
    "num_models = len(full_data)\n",
    "model_scores = pd.DataFrame(columns=['Model', 'iptm', 'ptm', 'Weighted Confidence Score'])\n",
    "for i in range(0,num_models,1):\n",
    "    #AF2_C_w = (0.8*summary_confidences[i]['iptm']) + (0.2*summary_confidences[i]['ptm'])\n",
    "    C_w = (0.8*summary_confidences[i]['iptm']) + (0.2*summary_confidences[i]['ptm']) + (0.5*summary_confidences[i]['fraction_disordered']) - (100*summary_confidences[i]['has_clash'])\n",
    "    row = pd.Series({'Model': i, 'iptm': summary_confidences[i]['iptm'], 'ptm': summary_confidences[i]['ptm'], 'Weighted Confidence Score': C_w})\n",
    "    model_scores.loc[i] = row\n",
    "    \n",
    "    print(f'Model {i} C_w = {C_w}')\n",
    "    #print(summary_confidences[i]['ranking_score'])\n",
    "    #print(summary_confidences[i]['has_clash'])\n",
    "    #print(summary_confidences[i]['fraction_disordered'])\n",
    "    if summary_confidences[i]['has_clash'] > 0:\n",
    "        print('Model', i, 'has a clash')\n",
    "model_scores\n",
    "    "
   ]
  },
  {
   "cell_type": "code",
   "execution_count": null,
   "metadata": {},
   "outputs": [],
   "source": [
    "len(full_data[0]['contact_probs'])"
   ]
  },
  {
   "cell_type": "markdown",
   "metadata": {},
   "source": [
    "### Plotting the _per atom_ pLDDT"
   ]
  },
  {
   "cell_type": "code",
   "execution_count": null,
   "metadata": {},
   "outputs": [],
   "source": [
    "plot_param = 'atom_plddts'\n",
    "# Plotting top-ranked prediction pLDDT scores\n",
    "max_rank = input('How many of the top-ranked predictions would you like to plot? ')\n",
    "if max_rank == '':\n",
    "    rank_range = np.arange(0,5,1)\n",
    "    NUM_COLORS = 5\n",
    "else:\n",
    "    rank_range = np.arange(0,int(max_rank),1)\n",
    "    NUM_COLORS = int(max_rank)\n",
    "#cm = plt.get_cmap('gist_rainbow') #color option 1\n",
    "#cm = sns.color_palette('husl', n_colors = NUM_COLORS) #color option 2\n",
    "cm = plt.cm.jet(np.linspace(0,1,NUM_COLORS)) #color option 3\n",
    "\n",
    "fig, ax = plt.subplots(figsize=(10,6))\n",
    "# Set fontface\n",
    "matplotlib.rcParams['font.sans-serif'] = \"Arial\"\n",
    "matplotlib.rcParams['font.family'] = \"sans-serif\"\n",
    "matplotlib.rcParams[\"mathtext.default\"] = \"regular\"\n",
    "\n",
    "for i in rank_range:\n",
    "    ax.plot(full_data[i][plot_param], label='Rank '+str(i), color=cm[i], linewidth=.75)\n",
    "\n",
    "ax.set_title(name, fontsize=14)\n",
    "ax.set_ylabel('Predicted LDDT', fontsize=12)\n",
    "ax.set_xlabel('Atoms', fontsize=12)\n",
    "ax.legend(bbox_to_anchor=(1.01, 1.05))\n",
    "#ax.xaxis.set_major_locator(plt.MaxNLocator(df_xy.shape[0]/))\n",
    "ax.set_ylim(top=100)\n",
    "#xrange = input('What range of residues do you want to plot (e.g. \"0-100\" – leave blank for all): ')\n",
    "#if xrange == '':\n",
    "xmin, xmax = 0, len(full_data[i][plot_param])\n",
    "#else:\n",
    "    #xrng = xrange.split('-')\n",
    "    #xmin, xmax = int(xrng[0]), int(xrng[1])\n",
    "\n",
    "#horizLine = input('Plot a vertical divider? (y/n)')\n",
    "#if horizLine == 'y':\n",
    "    #ax.axvline(int(input('Which position? ')), color='gray', linestyle='--')\n",
    "\n",
    "ax.set_xlim(xmin,xmax)\n",
    "ax.set_ylim(0,100)\n",
    "ax.set_xticks(np.round(np.linspace(xmin, xmax, 11), 2));\n",
    "#1103.5\n",
    "##outpath = csv_path.replace(filename,'')\n",
    "#plt.savefig(f\"{outpath}plddt-replot.pdf\")   #<-- Remove #'s on this line to automatically save the figure as .pdf"
   ]
  },
  {
   "cell_type": "markdown",
   "metadata": {},
   "source": [
    "### Plotting the Predicted Aligned Error (PAE)"
   ]
  },
  {
   "cell_type": "code",
   "execution_count": null,
   "metadata": {},
   "outputs": [],
   "source": [
    "################# PLOT THE PREDICTED ALIGNED ERROR################\n",
    "plt.figure(figsize=(3 * num_models, 2), dpi=100)\n",
    "\n",
    "\n",
    "for i in range(0,num_models,1):\n",
    "    plt.subplot(1, num_models, i + 1)\n",
    "    plt.title(f\"Model {i}: \"+r\"$C_{w} =$ \"+str(model_scores.loc[i]['Weighted Confidence Score']))\n",
    "    #if max(full_data[i]['pae'])>=30:\n",
    "    #    vmax = max(full_data[i]['pae']) \n",
    "    #else:\n",
    "    #    vmax=30\n",
    "    plt.imshow(full_data[i]['pae'], label=f\"Model_{i}\", cmap=\"bwr\", vmin=0, vmax=30)\n",
    "    plt.xlabel(\"Scored Residue\", fontsize=10)\n",
    "    #plt.set_tickparams(fontsize=8)\n",
    "    plt.ylabel(\"Aligned Residue\", fontsize=10)\n",
    "    cbar = plt.colorbar(orientation=\"horizontal\",fraction=0.046, pad=.3)\n",
    "    cbar.ax.set_xlabel('Expected Position Error / Å', fontsize=8)\n",
    "    cbar.ax.set_xticklabels([0,10,20,30],fontsize=8);\n",
    "    #plt.tight_layout()"
   ]
  },
  {
   "cell_type": "code",
   "execution_count": null,
   "metadata": {},
   "outputs": [],
   "source": []
  }
 ],
 "metadata": {
  "kernelspec": {
   "display_name": "l2d",
   "language": "python",
   "name": "python3"
  },
  "language_info": {
   "codemirror_mode": {
    "name": "ipython",
    "version": 3
   },
   "file_extension": ".py",
   "mimetype": "text/x-python",
   "name": "python",
   "nbconvert_exporter": "python",
   "pygments_lexer": "ipython3",
   "version": "3.11.5"
  }
 },
 "nbformat": 4,
 "nbformat_minor": 2
}
